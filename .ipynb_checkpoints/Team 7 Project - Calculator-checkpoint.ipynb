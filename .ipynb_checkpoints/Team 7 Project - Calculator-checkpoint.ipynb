{
 "cells": [
  {
   "cell_type": "markdown",
   "id": "bfa81738",
   "metadata": {},
   "source": [
    "# Team member names:\n",
    "1.Jingyao Wang \n",
    "2.Rinkal Kalubhai Dhameliya\n",
    "3.Vu Quang Dan\n",
    "4.Thennakoon Mudiyanselage Shamila Harshani Thennakoon\n",
    "5.Truong Hoang Thong\n"
   ]
  },
  {
   "cell_type": "markdown",
   "id": "9f884a18",
   "metadata": {
    "scrolled": true
   },
   "source": [
    "# Task\n",
    "To build a basic calculator program in Python that allows the user to perform various mathematical operations."
   ]
  },
  {
   "cell_type": "markdown",
   "id": "58c9603e",
   "metadata": {},
   "source": [
    "# Goal\n",
    "The goal of this project is to provide a user-friendly interface that allows users to perform basic mathematical operations, including addition, subtraction, multiplication, division, second power, and square root. The program should provide a menu for the user to select the desired operation and allow them to perform the operation as many times as they want until they choose to exit the program"
   ]
  },
  {
   "cell_type": "markdown",
   "id": "d4a5aec4",
   "metadata": {},
   "source": [
    "# Conclusion\n",
    "In conclusion, this basic calculator program in Python is a useful tool for performing basic mathematical operations. The program is designed to make calculations simpler and more accessible to users by providing a user-friendly interface and a range of operations to choose"
   ]
  },
  {
   "cell_type": "code",
   "execution_count": 2,
   "id": "0eafe54f",
   "metadata": {},
   "outputs": [],
   "source": [
    "from tkinter import *\n",
    "expression = \"\"\n",
    "def press(num):\n",
    "    global expression\n",
    "    expression = expression + str(num)\n",
    "    equation.set(expression)\n",
    "def equalpress():\n",
    "    try:\n",
    "        global expression\n",
    "        total = str(eval(expression))\n",
    "        equation.set(total)\n",
    "        expression = \"\"\n",
    "    except:\n",
    "        equation.set(\" error \")\n",
    "        expression = \"\"\n",
    "def clear():\n",
    "    global expression\n",
    "    expression = \"\"\n",
    "    equation.set(\"\")\n",
    "if __name__ == \"__main__\":\n",
    "\n",
    " gui = Tk()\n",
    " # set the background colour of GUI window\n",
    " gui.configure(background=\"light blue\")\n",
    " # set the title of GUI window\n",
    " gui.title(\"Simple Calculator\")\n",
    " # set the configuration of GUI window\n",
    " gui.geometry(\"320x225\")\n",
    "\n",
    " # we create an instance of this class\n",
    " equation = StringVar()\n",
    " # create the text entry box for\n",
    "\n",
    " expression_field = Entry(gui, textvariable=equation)\n",
    " # grid method is used for placing\n",
    " expression_field.grid(columnspan=250, ipadx=98)\n",
    " # create a Buttons and place at a particular\n",
    "\n",
    " button1 = Button(gui, text=' 1 ', fg='black', bg='yellow',\n",
    "                    command=lambda: press(1), height=2, width=10)\n",
    " button1.grid(row=2, column=0)\n",
    " button2 = Button(gui, text=' 2 ', fg='black', bg='yellow',\n",
    "                command=lambda: press(2), height=2, width=10)\n",
    "button2.grid(row=2, column=1)\n",
    "button3 = Button(gui, text=' 3 ', fg='black', bg='yellow',\n",
    "                command=lambda: press(3), height=2, width=10)\n",
    "button3.grid(row=2, column=2)\n",
    "button4 = Button(gui, text=' 4 ', fg='black', bg='yellow',\n",
    "                command=lambda: press(4), height=2, width=10)\n",
    "button4.grid(row=3, column=0)\n",
    "button5 = Button(gui, text=' 5 ', fg='black', bg='yellow',\n",
    "                command=lambda: press(5), height=2, width=10)\n",
    "button5.grid(row=3, column=1)\n",
    "button6 = Button(gui, text=' 6 ', fg='black', bg='yellow',\n",
    "                command=lambda: press(6), height=2, width=10)\n",
    "button6.grid(row=3, column=2)\n",
    "button7 = Button(gui, text=' 7 ', fg='black', bg='yellow',\n",
    "                command=lambda: press(7), height=2, width=10)\n",
    "button7.grid(row=4, column=0)\n",
    "button8 = Button(gui, text=' 8 ', fg='black', bg='yellow',\n",
    "                command=lambda: press(8), height=2, width=10)\n",
    "button8.grid(row=4, column=1)\n",
    "button9 = Button(gui, text=' 9 ', fg='black', bg='yellow',\n",
    "                command=lambda: press(9), height=2, width=10)\n",
    "button9.grid(row=4, column=2)\n",
    "button0 = Button(gui, text=' 0 ', fg='black', bg='yellow',\n",
    "                command=lambda: press(0), height=2, width=10)\n",
    "button0.grid(row=5, column=0)\n",
    "plus = Button(gui, text=' + ', fg='black', bg='yellow',\n",
    "            command=lambda: press(\"+\"), height=2, width=10)\n",
    "plus.grid(row=2, column=3)\n",
    "minus = Button(gui, text=' - ', fg='black', bg='yellow',\n",
    "                command=lambda: press(\"-\"), height=2, width=10)\n",
    "minus.grid(row=3, column=3)\n",
    "multiply = Button(gui, text=' * ', fg='black', bg='yellow',\n",
    "                command=lambda: press(\"*\"), height=2, width=10)\n",
    "multiply.grid(row=4, column=3)\n",
    "divide = Button(gui, text=' / ', fg='black', bg='yellow',\n",
    "                command=lambda: press(\"/\"), height=2, width=10)\n",
    "divide.grid(row=5, column=3)\n",
    "equal = Button(gui, text=' = ', fg='black', bg='yellow',\n",
    "                command=equalpress, height=2, width=10)\n",
    "equal.grid(row=5, column=2)\n",
    "clear = Button(gui, text='Clear', fg='black', bg='yellow',\n",
    "                command=clear, height=2, width=10)\n",
    "clear.grid(row=5, column='1')\n",
    "Decimal= Button(gui, text='.', fg='black', bg='yellow',\n",
    "                command=lambda: press('.'), height=2, width=10)\n",
    "Decimal.grid(row=6, column=0)\n",
    " # start the GUI\n",
    "gui.mainloop()\n"
   ]
  }
 ],
 "metadata": {
  "kernelspec": {
   "display_name": "Python 3 (ipykernel)",
   "language": "python",
   "name": "python3"
  },
  "language_info": {
   "codemirror_mode": {
    "name": "ipython",
    "version": 3
   },
   "file_extension": ".py",
   "mimetype": "text/x-python",
   "name": "python",
   "nbconvert_exporter": "python",
   "pygments_lexer": "ipython3",
   "version": "3.11.2"
  }
 },
 "nbformat": 4,
 "nbformat_minor": 5
}
